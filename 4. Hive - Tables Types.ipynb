{
 "cells": [
  {
   "cell_type": "markdown",
   "id": "634cacb3",
   "metadata": {},
   "source": [
    "# Hive Table Types\n"
   ]
  },
  {
   "cell_type": "code",
   "execution_count": null,
   "id": "d76a3136",
   "metadata": {},
   "outputs": [],
   "source": [
    "1. Internal or Managed Tables\n",
    "2. External Tables\n",
    "3. Transaction Tables\n",
    "4. Temporary Tables"
   ]
  },
  {
   "cell_type": "code",
   "execution_count": null,
   "id": "5ad0f9c5",
   "metadata": {},
   "outputs": [],
   "source": [
    "#1. Internal or Managed Tables\n",
    "By default, Hive creates an Internal table also known as the Managed table, In the managed table, Hive owns the data/files \n",
    "on the table meaning any data you insert or load files to the table are managed by the Hive process when you drop the table \n",
    "the underlying data or files are also get deleted.\n",
    "\n",
    "--> Tables can store data in hdfs '/hive/warehouse' dir, no need to specify the Location while creating tables.\n",
    "\n",
    "CREATE TABLE <Tablename> .... etc //Will Treat table as Internal Tables\n",
    "\n",
    "--> Can delete the Table Schema and data, if we drop the table"
   ]
  },
  {
   "cell_type": "code",
   "execution_count": null,
   "id": "4035dd5b",
   "metadata": {},
   "outputs": [],
   "source": [
    "#2 External Table\n",
    "\n",
    "CREATE EXTERNAL TABLE emp.employee_external (\n",
    " id int,\n",
    " name string,\n",
    " age int,\n",
    " gender string)\n",
    " ROW FORMAT DELIMITED\n",
    " FIELDS TERMINATED BY ','\n",
    " LOCATION '/user/hive/data/employee_external';\n",
    "    \n",
    " --> Can have the External Keyword in Table defination\n",
    " --> Need to specify the Table location \n",
    " --> Can't delete the data, even if we drop table, It can delete only schema data in Hive-Metastote.\n",
    " --> usually use these tables \n",
    "             1.If the size of the file is less and will be in human readable format.\n",
    "             2.Want to use the data in file for reference in our queries\n"
   ]
  },
  {
   "cell_type": "code",
   "execution_count": null,
   "id": "7b8e4b65",
   "metadata": {},
   "outputs": [],
   "source": [
    "#3 Temporary Table\n",
    "these tables exist only within the current session, upon exiting the session the temporary tables will be removed and cannot \n",
    "be accessed in another session.\n",
    "\n",
    "There are few limitations to the temporary table\n",
    "-->Cannot Create Partitioned Table\n",
    "-->Indexes are not supported\n",
    "\n",
    "\n",
    "CREATE TEMPORARY TABLE emp.employee_tmp (\n",
    " id int,\n",
    " name string,\n",
    " age int,\n",
    " gender string)\n",
    " ROW FORMAT DELIMITED\n",
    " FIELDS TERMINATED BY ',';\n",
    "\n"
   ]
  },
  {
   "cell_type": "code",
   "execution_count": null,
   "id": "9fefd29c",
   "metadata": {},
   "outputs": [],
   "source": [
    "#4 Transactional Table\n",
    "Hive 4.0 supports another type of table called Transactional tables., before this Hive version 0.14 has this Transaction tables\n",
    "Transactional Tables have support ACID operations like Insert, Update and Delete operations.\n",
    "\n",
    "\n",
    "CREATE TRANSACTIONAL TABLE emp.employee_tmp (\n",
    " id int,\n",
    " name string,\n",
    " age int,\n",
    " gender string)\n",
    " ROW FORMAT DELIMITED\n",
    " FIELDS TERMINATED BY ','\n",
    " STORED AS ORC;\n"
   ]
  }
 ],
 "metadata": {
  "kernelspec": {
   "display_name": "Python 3",
   "language": "python",
   "name": "python3"
  },
  "language_info": {
   "codemirror_mode": {
    "name": "ipython",
    "version": 3
   },
   "file_extension": ".py",
   "mimetype": "text/x-python",
   "name": "python",
   "nbconvert_exporter": "python",
   "pygments_lexer": "ipython3",
   "version": "3.8.8"
  }
 },
 "nbformat": 4,
 "nbformat_minor": 5
}
