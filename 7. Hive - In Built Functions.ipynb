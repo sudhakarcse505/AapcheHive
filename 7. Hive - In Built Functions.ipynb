{
 "cells": [
  {
   "cell_type": "markdown",
   "id": "ef1584e0",
   "metadata": {},
   "source": [
    "# Hive - In Built Functions"
   ]
  },
  {
   "cell_type": "code",
   "execution_count": null,
   "id": "10eb39bb",
   "metadata": {},
   "outputs": [],
   "source": [
    "#String Functions\n",
    "select rpad('sudha',10,'*')\n",
    "select lpad('sudha',10,'*')\n",
    "select trim('      sudha     ')\n",
    "select ltrim('      sudha')\n",
    "select rtrim('sudha     ')\n",
    "select upper('sudhakar')\n",
    "select lower('SUDHAKAR')\n",
    "select length('hello world this is hive sql')\n",
    "select substr('hello world this is hive sql',7,5)\n",
    "select initcap('hello world this is hive sql')\n",
    "select reverse('SUDHAKAR')\n",
    "\n",
    "select concat(\"ABC\",\"DEF\"); ==> Returns ABCDEF\n",
    "select character_length(\"ABC\"); ==> Returns 3\n",
    "select concat_ws(\"|\",\"1\",\"2\",\"3\"); ==> Returns 1|2|3\n",
    "\n",
    "select split(\"USA IS A PLACE\",\" \"); Returns: [\"USA\",\"IS\",\"A\",\"PLACE\"]\n",
    "\n",
    "select instr(\"usa is a land of opportunity\",\"is\"); ==> Returns 5\n",
    "\n",
    "select repeat(\"USA\",5); ==> Returns USAUSAUSAUSAUSA\n",
    "select replace(\"ABC CDF ABC CDF\",\"CDF\",'XYZ'); Returns ABC XYZ ABC XYZ\n",
    "\n",
    "select collect_as_list(col) as list_elements ;\n"
   ]
  },
  {
   "cell_type": "code",
   "execution_count": null,
   "id": "cc77274f",
   "metadata": {},
   "outputs": [],
   "source": [
    "#Date/Time Functions\n",
    "\n",
    "select day/month/year (current_date)\n",
    "select add_months(current_date,-1)\n",
    "select months_between(current_date,date '2016-08-10')\n",
    "select last_day(date '2016-08-10')\n",
    "select next_day(date '2016-08-10','sun/mon/tue/wed/thu/fri/sat')\n",
    "\n",
    "select to_date('2014-05-12'))\n",
    "select round(months_between(current_date,to_date('2014-05-12')),0)\n",
    "select trunc(current_date,'YYYY/MM/DD'\n",
    "select date_format(current_date,'MM-dd-yyyy')\n",
    "select date_add(current_date,10)\n",
    "select date_sub(current_date,10)\n",
    "select datediff(current_date,date'2014-05-21')"
   ]
  },
  {
   "cell_type": "code",
   "execution_count": null,
   "id": "1bdc183b",
   "metadata": {},
   "outputs": [],
   "source": [
    "#Conditional Functions\n",
    "\n",
    "'isnull (col)' --> Return True if the value is NULL\n",
    "SELECT salary,isnull(salary) FROM employee WHERE gender='M';\n",
    "+---------+--------+\n",
    "| salary  |  _c1   |\n",
    "+---------+--------+\n",
    "| 10000   | false  |\n",
    "| NULL    | true   |\n",
    "+---------+--------+\n",
    "\n",
    "'isnotnull(col)'\n",
    "SELECT salary,isnotnull(salary) FROM employee WHERE gender='M';\n",
    "+---------+--------+\n",
    "| salary  |  _c1   |\n",
    "+---------+--------+\n",
    "| 10000   | true   |\n",
    "| NULL    | false  |\n",
    "+---------+--------+\n",
    "\n",
    "'If(boolean testCondition, T valueTrue, T valueFalseOrNull)'\n",
    "SELECT salary,if(isnull(salary),'No Salary','Present Salary') FROM employee WHERE gender='M';\n",
    "+---------+-----------------+\n",
    "| salary  |       _c1       |\n",
    "+---------+-----------------+\n",
    "| 10000   | Present Salary  |\n",
    "| NULL    | No Salary       |\n",
    "+---------+-----------------+\n",
    "\n",
    "'nvl(T value, T default_value)'\n",
    "SELECT salary,Nvl(salary,-1) FROM employee WHERE gender='M';\n",
    "+---------+--------+\n",
    "| salary  |  _c1   |\n",
    "+---------+--------+\n",
    "| 10000   | 10000  |\n",
    "| 30000   | 30000  |\n",
    "| NULL    | -1     |\n",
    "+---------+--------+\n",
    "\n",
    "'COALESCE(T v1, T v2, …)' => return the first non-null value amoung the list\n"
   ]
  },
  {
   "cell_type": "markdown",
   "id": "6ce0fc85",
   "metadata": {},
   "source": [
    "# Case When Statements"
   ]
  },
  {
   "cell_type": "code",
   "execution_count": null,
   "id": "c0fe46ec",
   "metadata": {},
   "outputs": [],
   "source": [
    "#1 type\n",
    "SELECT salary,CASE salary WHEN 10000 THEN 1\n",
    "                          WHEN 30000 THEN 2\n",
    "                          ELSE 0\n",
    "              END\n",
    "FROM employee where gender='M';\n",
    "\n",
    "+---------+------+\n",
    "| salary  | _c1  |\n",
    "+---------+------+\n",
    "| 10000   | 1    |\n",
    "| 30000   | 2    |\n",
    "| NULL    | 0    |\n",
    "+---------+------+\n",
    "\n",
    "#2type\n",
    "select salary,gender,\n",
    "case when salary=10000 then 1\n",
    "     when gender='M' then 2\n",
    "     else '-1' END\n",
    "from employee where gender = 'M';\n",
    "\n",
    "+---------+---------+------+\n",
    "| salary  | gender  | _c2  |\n",
    "+---------+---------+------+\n",
    "| 10000   | M       | 1    |\n",
    "| 30000   | M       | 2    |\n",
    "| NULL    | M       | 2    |\n",
    "+---------+---------+------+"
   ]
  }
 ],
 "metadata": {
  "kernelspec": {
   "display_name": "Python 3",
   "language": "python",
   "name": "python3"
  },
  "language_info": {
   "codemirror_mode": {
    "name": "ipython",
    "version": 3
   },
   "file_extension": ".py",
   "mimetype": "text/x-python",
   "name": "python",
   "nbconvert_exporter": "python",
   "pygments_lexer": "ipython3",
   "version": "3.8.8"
  }
 },
 "nbformat": 4,
 "nbformat_minor": 5
}
