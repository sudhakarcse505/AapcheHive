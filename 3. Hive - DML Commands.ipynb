{
 "cells": [
  {
   "cell_type": "markdown",
   "id": "4953a169",
   "metadata": {},
   "source": [
    "# Hive DML Statements"
   ]
  },
  {
   "cell_type": "code",
   "execution_count": null,
   "id": "403f8d83",
   "metadata": {},
   "outputs": [],
   "source": [
    "# Insert Rows into Table\n",
    "INSERT INTO emp.employee values(7,'scott',23,'M');\n",
    "INSERT INTO emp.employee values(8,'raman',50,'M');\n",
    "\n",
    "#Inserting multiple Rows\n",
    "INSERT INTO employee VALUES (13,'Mari',51,'M'),(14,'Pat',34,'F');\n",
    "\n",
    "#Inserting values to specific columns, for not specified columns Hive can table as NULL values\n",
    "INSERT INTO EMP.EMPLOYEE(id,name) VALUES (20,'Bhavi');\n",
    "\n",
    "#Insert Using a file\n",
    "LOAD DATA LOCAL INPATH '/home/hive/data.txt' INTO TABLE emp.employee;\n",
    "\n",
    "#Insert Using a Query\n",
    "INSERT INTO emp.employee2 SELECT * FROM emp.employee;\n",
    "\n",
    "\n",
    "NOTE:- Updates and Deletes can work only with Transaction and ORC tables"
   ]
  },
  {
   "cell_type": "code",
   "execution_count": null,
   "id": "ab8e7ef2",
   "metadata": {},
   "outputs": [],
   "source": [
    "#Insert Vs Insert Overwrite\n",
    "#INSERT INTO is used to append the data/records/rows into a table or partition. This doesn’t modify the existing data.\n",
    "\n",
    "INSERT INTO TABLE tablename1 \n",
    "[PARTITION (partcol1=val1, partcol2=val2 ...)] \n",
    "select_statement1 FROM from_statement;\n",
    "\n",
    "\n",
    "#INSERT OVERWRITE is used to replace any existing data in the table or partition and insert with the new rows.\n",
    "\n",
    "INSERT OVERWRITE TABLE tablename1 \n",
    "[PARTITION (partcol1=val1, partcol2=val2 ...) \n",
    "[IF NOT EXISTS]] \n",
    "select_statement1 FROM from_statement;\n",
    "\n",
    "#Export Table to LOCAL or HDFS using Insert Overwrite\n",
    "#Can Export to HDFS as file\n",
    "INSERT OVERWRITE DIRECTORY '/user/data/output/export' ROW FORMAT DELIMITED FIELDS TERMINATED BY ',' \n",
    "SELECT * FROM employee; \n",
    "\n",
    "#Export to LOCAL as file\n",
    "INSERT OVERWRITE LOCAL DIRECTORY '/tmp/export' ROW FORMAT DELIMITED FIELDS TERMINATED BY ',' \n",
    "SELECT * FROM employee;\n",
    "\n"
   ]
  },
  {
   "cell_type": "code",
   "execution_count": null,
   "id": "0f503cf6",
   "metadata": {},
   "outputs": [],
   "source": [
    "#Create Tables from exsisting tables\n",
    "\n",
    "#Create Table As Select (CTAS)\n",
    "CREATE TABLE emp.filter AS SELECT id,name FROM emp.employee WHERE gender = 'F';\n",
    "\n",
    "'''CTAS has these restrictions:\n",
    "    The target table cannot be an external table.\n",
    "    The target table cannot be a list bucketing table.'''\n",
    "\n",
    "#Create Table LIKE\n",
    "CREATE TABLE emp.similar LIKE emp.employee;\n"
   ]
  }
 ],
 "metadata": {
  "kernelspec": {
   "display_name": "Python 3",
   "language": "python",
   "name": "python3"
  },
  "language_info": {
   "codemirror_mode": {
    "name": "ipython",
    "version": 3
   },
   "file_extension": ".py",
   "mimetype": "text/x-python",
   "name": "python",
   "nbconvert_exporter": "python",
   "pygments_lexer": "ipython3",
   "version": "3.8.8"
  }
 },
 "nbformat": 4,
 "nbformat_minor": 5
}
