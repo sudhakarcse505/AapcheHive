{
 "cells": [
  {
   "cell_type": "markdown",
   "id": "b66a2f0b",
   "metadata": {},
   "source": [
    "# Hive DDL Commands"
   ]
  },
  {
   "cell_type": "code",
   "execution_count": null,
   "id": "16a42ed5",
   "metadata": {},
   "outputs": [],
   "source": [
    "#DATABASE Commands\n",
    "\n",
    "CREATE DATABASE [IF NOT EXISTS] emp;\n",
    "\n",
    "#Change the Location of DB in hdfs\n",
    "CREATE DATABASE temp LOCATION '/project/hive/warehouse';\n",
    "\n",
    "#list all Databases , Bydefault 'default' db is there in Hive\n",
    "SHOW DATABASES;\n",
    "\n",
    "#Use database\n",
    "0: jdbc:hive2://>USE emp;\n",
    "\n",
    "#Describe Database\n",
    "0: jdbc:hive2://>DESCRIBE DATABASE emp;\n",
    "0: jdbc:hive2://>DESCRIBE SCHEMA emp; \n",
    "0: jdbc:hive2://>DESCRIBE DATABASE EXTENDED emp;\n",
    "0: jdbc:hive2://>DESCRIBE SCHEMA EXTENDED emp; \n",
    "            \n",
    "#Drop database\n",
    "\n",
    "jdbc:hive2://>DROP DATABASE emp;\n",
    "jdbc:hive2://>DROP DATABASE emp CASCADE;\n",
    "jdbc:hive2://>DROP DATABASE emp RESTRICT;\n",
    "\n"
   ]
  },
  {
   "cell_type": "markdown",
   "id": "958148a2",
   "metadata": {},
   "source": [
    "# Hive DDL Table Commands"
   ]
  },
  {
   "cell_type": "code",
   "execution_count": null,
   "id": "8ed33523",
   "metadata": {},
   "outputs": [],
   "source": [
    "#Create Table\n",
    "CREATE [TEMPORARY] [EXTERNAL] TABLE [IF NOT EXISTS] [db_name.] table_name\n",
    "[(col_name data_type [column_constraint] [COMMENT col_comment], ...)]\n",
    "[PARTITIONED BY (col_name data_type [COMMENT 'col_comment'], ...)]\n",
    "[CLUSTERED BY (col_name, col_name,.......]\n",
    "[COMMENT table_comment]\n",
    "[ROW FORMAT row_format]\n",
    "[FIELDS TERMINATED BY char]\n",
    "[LINES TERMINATED BY char]\n",
    "[LOCATION 'hdfs_path']\n",
    "[STORED AS file_format]\n",
    "\n",
    "\n",
    "#Example Table creation\n",
    "CREATE TABLE IF NOT EXISTS emp.employee (\n",
    " id int,\n",
    " name string,\n",
    " age int,\n",
    " gender string )\n",
    " COMMENT 'Employee Table'\n",
    " ROW FORMAT DELIMITED\n",
    " FIELDS TERMINATED BY ','\n",
    " STORED AS TEXTFILE;\n",
    "    \n",
    "    \n",
    "#Show tables\n",
    "SHOW TABLES; // This shows all tables from the current database\n",
    "SHOW TABLES in emp; // This shows all tables in the emp database\n",
    "\n",
    "#Describe Table\n",
    "jdbc:hive2://> DESCRIBE FORMATTED employee;\n",
    "jdbc:hive2://> DESCRIBE EXTENDED employee;\n",
    "\n",
    "\n",
    "#Truncate table\n",
    "jdbc:hive2://>TRUNCATE TABLE emp;\n",
    "\n",
    "        \n",
    "#Alter table\n",
    "jdbc:hive2://>ALTER TABLE employee RENAME TO employee2;\n",
    "\n",
    "#Drop table\n",
    "jdbc:hive2://>DROP TABLE employee2;\n",
    "jdbc:hive2://>DROP TABLE emp.employee2;\n",
    "jdbc:hive2://>DROP TABLE IF EXISTS employee2 PURGE;\n"
   ]
  },
  {
   "cell_type": "code",
   "execution_count": null,
   "id": "eec85207",
   "metadata": {},
   "outputs": [],
   "source": []
  }
 ],
 "metadata": {
  "kernelspec": {
   "display_name": "Python 3",
   "language": "python",
   "name": "python3"
  },
  "language_info": {
   "codemirror_mode": {
    "name": "ipython",
    "version": 3
   },
   "file_extension": ".py",
   "mimetype": "text/x-python",
   "name": "python",
   "nbconvert_exporter": "python",
   "pygments_lexer": "ipython3",
   "version": "3.8.8"
  }
 },
 "nbformat": 4,
 "nbformat_minor": 5
}
