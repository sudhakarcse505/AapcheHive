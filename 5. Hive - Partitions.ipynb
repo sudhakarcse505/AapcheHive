{
 "cells": [
  {
   "cell_type": "markdown",
   "id": "5a18132c",
   "metadata": {},
   "source": [
    "# Hive - Partitions"
   ]
  },
  {
   "cell_type": "code",
   "execution_count": null,
   "id": "35a1a8ab",
   "metadata": {},
   "outputs": [],
   "source": [
    "What are Hive Partitions?\n",
    "\n",
    "-->Hive table partition is a way to split a large table into smaller logical tables based on one or more partition keys. \n",
    "These smaller logical tables are not visible to users and users still access the data from just one table.\n",
    "\n",
    "-->Partition eliminates creating smaller tables, accessing, and managing them separately.\n",
    "\n",
    "-->When you load the data into the partition table, Hive internally splits the records based on the partition key and \n",
    "    stores each partition data into a sub-directory of tables directory on HDFS. \n",
    "'The name of the directory would be partition key and it’s value.'\n",
    "\n",
    "+------------+\n",
    "| partition  |\n",
    "+------------+\n",
    "| state=AL   |\n",
    "| state=AZ   |\n",
    "| state=FL   |\n",
    "| state=NC   |\n",
    "| state=PR   |\n",
    "| state=TX   |\n",
    "+------------+\n",
    "\n",
    "-->Also, note that while loading the data into the partition table, Hive eliminates the partition key from the actual loaded \n",
    "   file on HDFS as it is redundant information and could be get from the partition folder name.\n"
   ]
  },
  {
   "cell_type": "code",
   "execution_count": null,
   "id": "68d0960d",
   "metadata": {},
   "outputs": [],
   "source": [
    "-->To create a Hive table with partitions, you need to use PARTITIONED BY clause along with the column you wanted to \n",
    "   partition and its type\n",
    "    \n",
    "\n",
    "CREATE TABLE zipcodes(\n",
    "RecordNumber int,\n",
    "Country string,\n",
    "City string,\n",
    "Zipcode int)\n",
    "PARTITIONED BY(state string)\n",
    "ROW FORMAT DELIMITED\n",
    "FIELDS TERMINATED BY ',';\n",
    "\n",
    "\n",
    "#Load Data to Table\n",
    "#hdfs dfs -put zipcodes.csv /data/\n",
    "jdbc:hive2://127.0.0.1:10000> LOAD DATA INPATH '/data/zipcodes.csv' INTO TABLE zipcodes;\n",
    "    \n",
    "#Using Insert Into as Static Partition\n",
    "INSERT INTO zipcodes PARTITION(state='FL') VALUES (891,'US','TAMPA',33605);\n",
    "\n",
    "\n",
    "jdbc:hive2://127.0.0.1:10000> SHOW PARTITIONS zipcodes;\n",
    "+------------+\n",
    "| partition  |\n",
    "+------------+\n",
    "| state=AL   |\n",
    "| state=AZ   |\n",
    "| state=FL   |\n",
    "| state=NC   |\n",
    "| state=PR   |\n",
    "| state=TX   |\n",
    "+------------+\n",
    "6 rows selected (0.074 seconds)\n",
    "\n"
   ]
  },
  {
   "cell_type": "code",
   "execution_count": null,
   "id": "24828daf",
   "metadata": {},
   "outputs": [],
   "source": [
    "#Add Partition\n",
    "jdbc:hive2://127.0.0.1:10000>ALTER TABLE zipcodes ADD PARTITION (state='CA') LOCATION '/user/data/zipcodes_ca';\n",
    "\n",
    "#Rename/update Partition\n",
    "jdbc:hive2://127.0.0.1:10000> ALTER TABLE zipcodes PARTITION (state='AL') RENAME TO PARTITION (state='NY');\n",
    "\n",
    "#Renaming Partitions on HDFS\n",
    "'hdfs dfs -mv /user/hive/warehouse/zipcodes/state=NY /user/hive/warehouse/zipcodes/state=AL'\n",
    "\n",
    "NOTE:-When you manually modify partitions directly on HDFS, you need to run 'MSCK REPAIR TABLE' to update the Hive Metastore.\n",
    "      Not doing so will result in inconsistent results.\n",
    "        \n",
    "\n",
    "jdbc:hive2://127.0.0.1:10000>'MSCK REPAIR TABLE zipcodes SYNC PARTITIONS;'\n"
   ]
  },
  {
   "cell_type": "code",
   "execution_count": null,
   "id": "4fe31ff0",
   "metadata": {},
   "outputs": [],
   "source": [
    "#Drop a Partition as Static Partition\n",
    "jdbc:hive2://127.0.0.1:10000> ALTER TABLE zipcodes DROP IF EXISTS PARTITION (state='AL');\n",
    "\n",
    "NOTE:- 'Not using IF EXISTS result in error when specified partition not exists.'\n",
    "    \n",
    "#Drop Partitions on HDFS\n",
    "user@namenode:~/hive$ 'hdfs dfs -rm -R /user/hive/warehouse/zipcodes/state=AL'\n",
    "Deleted /user/hive/warehouse/zipcodes/state=AL\n",
    "\n",
    "\n",
    "jdbc:hive2://127.0.0.1:10000> MSCK REPAIR TABLE zipcodes SYNC PARTITIONS;\n",
    "jdbc:hive2://127.0.0.1:10000> SHOW PARTITIONS zipcodes;\n",
    "+-----------------------------------+\n",
    "|             partition             |\n",
    "+-----------------------------------+\n",
    "| state=AZ                          |\n",
    "| state=FL                          |\n",
    "| state=NC                          |\n",
    "| state=PR                          |\n",
    "| state=TX                          |\n",
    "+-----------------------------------+\n",
    "\n",
    "\n"
   ]
  },
  {
   "cell_type": "code",
   "execution_count": null,
   "id": "647cd9e5",
   "metadata": {},
   "outputs": [],
   "source": [
    "'How to Filter Partitions?'\n",
    "\n",
    "SHOW PARTITIONS zipcodes PARTITION(state='NC');\n",
    "+------------+\n",
    "| partition  |\n",
    "+------------+\n",
    "| state=NC   |\n",
    "+------------+\n",
    "1 row selected (0.182 seconds)\n",
    "\n",
    "'Know Specific Partition Location on HDFS'\n",
    "\n",
    "DESCRIBE FORMATTED zipcodes PARTITION(state='PR');\n",
    "SHOW TABLE EXTENDED LIKE zipcodes PARTITION(state='PR');\n"
   ]
  },
  {
   "cell_type": "code",
   "execution_count": null,
   "id": "e26f463c",
   "metadata": {},
   "outputs": [],
   "source": [
    "#Keywords used with Partitions\n",
    "PARTITIONED BY --> used to create a partition table\n",
    "ALTER TABLE --> used to add, rename, drop partitions\n",
    "SHOW PARTITIONS --> used to show the partitions of the table\n",
    "MSCK REPAIR --> used to synch Hive Metastore with the HDFS data."
   ]
  },
  {
   "cell_type": "markdown",
   "id": "9614d7d1",
   "metadata": {},
   "source": [
    "# 1. Static Partitions"
   ]
  },
  {
   "cell_type": "code",
   "execution_count": null,
   "id": "2cfed130",
   "metadata": {},
   "outputs": [],
   "source": [
    "-->In static partitioning we need to specify the partition column value in each and every LOAD statement.\n",
    "-->Insert input data files individually into a partition table is Static Partition Usually when loading files (big files) into \n",
    "   Hive tables static partitions are preferred\n",
    "\n",
    "-->suppose we are having partition on column country for table t1(userid, name,occupation, country), so each time we need \n",
    "   to provide country value\n",
    "    \n",
    "    hive> set hive.mapred.mode = strict #Default value as strict\n",
    "    hive> LOAD DATA INPATH '/hdfs path of the file' INTO TABLE t1 PARTITION(country=\"US\")\n",
    "    hive> LOAD DATA INPATH '/hdfs path of the file' INTO TABLE t1 PARTITION(country=\"UK\")\n",
    "    hive> INSERT INTO zipcodes PARTITION(state='FL') VALUES (891,'US','TAMPA',33605);\n",
    "\n",
    "-->Static Partition saves your time in loading data compared to dynamic partition You “statically” add a partition in table \n",
    "   and move the file into the partition of the table.\n",
    "\n",
    "-->We can alter the partition in static partition\n",
    "-->You can get the partition column value form the filename, day of date etc without reading the whole big file."
   ]
  },
  {
   "cell_type": "markdown",
   "id": "f49ddd79",
   "metadata": {},
   "source": [
    "# 2. Dynamic Partitions"
   ]
  },
  {
   "cell_type": "code",
   "execution_count": null,
   "id": "94b849b8",
   "metadata": {},
   "outputs": [],
   "source": [
    "1.single insert to partition table is known as dynamic partition\n",
    "2.Usually dynamic partition load the data from non partitioned table\n",
    "3.Dynamic Partition takes more time in loading data compared to static partition\n",
    "4.When you have large data stored in a table then Dynamic partition is suitable.\n",
    "5.If you want to partition number of column but you don’t know how many columns then also dynamic partition is suitable\n",
    "6.Dynamic partition there is no required where clause to use limit. we can’t perform alter on Dynamic partition\n",
    "7.You can perform dynamic partition on 'hive external table and managed table' If you want to use Dynamic partition in hive \n",
    " then mode is in 'nonstrict' mode Here is hive dynamic partition properties you should allow\n",
    "\n",
    "'SET hive.exec.dynamic.partition = true;'\n",
    "'SET hive.exec.dynamic.partition.mode = nonstrict;'\n",
    "\n",
    " hive> INSERT INTO TABLE t2 PARTITION(country) SELECT * from T1;   #t1(userid, name,occupation, country)\n",
    "\n",
    "NOTE- make sure that partitioned column is always the last one in non-partitioned/Source table (as we are having country column in t2)"
   ]
  }
 ],
 "metadata": {
  "kernelspec": {
   "display_name": "Python 3",
   "language": "python",
   "name": "python3"
  },
  "language_info": {
   "codemirror_mode": {
    "name": "ipython",
    "version": 3
   },
   "file_extension": ".py",
   "mimetype": "text/x-python",
   "name": "python",
   "nbconvert_exporter": "python",
   "pygments_lexer": "ipython3",
   "version": "3.8.8"
  }
 },
 "nbformat": 4,
 "nbformat_minor": 5
}
