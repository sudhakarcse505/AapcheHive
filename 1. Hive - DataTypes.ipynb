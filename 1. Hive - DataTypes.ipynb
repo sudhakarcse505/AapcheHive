{
 "cells": [
  {
   "cell_type": "markdown",
   "id": "27cae562",
   "metadata": {},
   "source": [
    "# Hive data types [Primitives and complex ]"
   ]
  },
  {
   "cell_type": "markdown",
   "id": "35771bbd",
   "metadata": {},
   "source": [
    "# Primitive Types"
   ]
  },
  {
   "cell_type": "markdown",
   "id": "35840af5",
   "metadata": {},
   "source": [
    "\n",
    "1. Hive Numeric Types\n",
    "\n",
    "TINYINT \t   1-byte signed integer, from -128 to 127\n",
    "SMALLINT   \t   2-byte signed integer, from -32,768 to 32,767\n",
    "INT/INTEGER   \t4-byte signed integer, from -2,147,483,648 to 2,147,483,647\n",
    "BIGINT  \t8-byte signed integer, from -9,223,372,036,854,775,808 to 9,223,372,036,854,775,807\n",
    "FLOAT   \t4-byte single precision floating point number\n",
    "DOUBLE  \t8-byte double precision floating point number\n",
    "DOUBLE PRECISION \tAlias for DOUBLE, only available starting with Hive 2.2.0\n",
    "DECIMAL  \t  It accepts a precision of 38 digits.\n",
    "NUMERIC \tSame as DECIMAL type."
   ]
  },
  {
   "cell_type": "code",
   "execution_count": null,
   "id": "bf61e058",
   "metadata": {},
   "outputs": [],
   "source": [
    "#Primitive Types\n",
    "# 2. Hive String Types\n",
    "\n",
    "STRING  \tThe string is an unbounded type. Not required to specify the lenght. It can accept max up to 32,767 bytes.\n",
    "VARCHAR \tVariable length of characters. It is bounded meaning you still need to specify the length like VARCHAR(10).\n",
    "CHAR \tFixed length of Characters. if you define char(10) and assigning 5 chars, the remaining 5 characters space will \n",
    "        be wasted."
   ]
  },
  {
   "cell_type": "code",
   "execution_count": null,
   "id": "a6022e10",
   "metadata": {},
   "outputs": [],
   "source": [
    "#Primitive Types\n",
    "# 3. Hive DATE/TIME Types\n",
    "TIMESTAMP   \tAccepts Both Date and Time\n",
    "DATE    \tAccepts just Date\n",
    "INTERVAL    \tInterval"
   ]
  },
  {
   "cell_type": "code",
   "execution_count": null,
   "id": "5424683a",
   "metadata": {},
   "outputs": [],
   "source": [
    "#Primitive Types\n",
    "# 4. Hive Misc Types\n",
    "BOOLEAN     \tAccepts TRUE/FALSE values\n",
    "BINARY      \tOnly available starting with Hive 0.8.0"
   ]
  },
  {
   "cell_type": "markdown",
   "id": "3a0a3ddd",
   "metadata": {},
   "source": [
    "# Hive Complex Types"
   ]
  },
  {
   "cell_type": "code",
   "execution_count": null,
   "id": "ce261223",
   "metadata": {},
   "outputs": [],
   "source": [
    "Arrays\tARRAY<data_type>\n",
    "Maps\tMAP<primitive_type, data_type>\n",
    "Structs\t STRUCT<col_name : data_type [COMMENT col_comment], ...>\n",
    "Union\tUNIONTYPE<data_type, data_type, …>\n",
    "        Note: Only available starting with Hive 0.7.0."
   ]
  }
 ],
 "metadata": {
  "kernelspec": {
   "display_name": "Python 3",
   "language": "python",
   "name": "python3"
  },
  "language_info": {
   "codemirror_mode": {
    "name": "ipython",
    "version": 3
   },
   "file_extension": ".py",
   "mimetype": "text/x-python",
   "name": "python",
   "nbconvert_exporter": "python",
   "pygments_lexer": "ipython3",
   "version": "3.8.8"
  }
 },
 "nbformat": 4,
 "nbformat_minor": 5
}
